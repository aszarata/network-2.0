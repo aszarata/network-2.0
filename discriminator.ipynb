{
 "cells": [
  {
   "cell_type": "code",
   "execution_count": 32,
   "metadata": {},
   "outputs": [],
   "source": [
    "import activation_func as fn\n",
    "from model import Model\n",
    "from layer import Layer\n",
    "from loss_func import MSE\n",
    "from data_loader import DataLoader"
   ]
  },
  {
   "cell_type": "code",
   "execution_count": 33,
   "metadata": {},
   "outputs": [],
   "source": [
    "import numpy as np\n",
    "import pandas as pd\n",
    "import cv2\n",
    "import matplotlib.pyplot as plt"
   ]
  },
  {
   "cell_type": "markdown",
   "metadata": {},
   "source": [
    "# Dataset initialisation"
   ]
  },
  {
   "cell_type": "code",
   "execution_count": 34,
   "metadata": {},
   "outputs": [],
   "source": [
    "def bytes_to_pixels(image):\n",
    "    image_bytes = image['bytes']\n",
    "    image_array = np.frombuffer(image_bytes, dtype=np.uint8)\n",
    "    image = cv2.imdecode(image_array, cv2.IMREAD_GRAYSCALE)\n",
    "    pixel_values = image.flatten()\n",
    "    return pixel_values"
   ]
  },
  {
   "cell_type": "code",
   "execution_count": 35,
   "metadata": {},
   "outputs": [],
   "source": [
    "training_data_path = 'dataset/train.parquet'\n",
    "test_data_path = 'dataset/test.parquet'"
   ]
  },
  {
   "cell_type": "code",
   "execution_count": 36,
   "metadata": {},
   "outputs": [],
   "source": [
    "percentage_of_dataset = 1"
   ]
  },
  {
   "cell_type": "code",
   "execution_count": 37,
   "metadata": {},
   "outputs": [
    {
     "name": "stdout",
     "output_type": "stream",
     "text": [
      "                                                   image  label\n",
      "0      {'bytes': b'\\x89PNG\\r\\n\\x1a\\n\\x00\\x00\\x00\\rIHD...      5\n",
      "1      {'bytes': b'\\x89PNG\\r\\n\\x1a\\n\\x00\\x00\\x00\\rIHD...      0\n",
      "2      {'bytes': b'\\x89PNG\\r\\n\\x1a\\n\\x00\\x00\\x00\\rIHD...      4\n",
      "3      {'bytes': b\"\\x89PNG\\r\\n\\x1a\\n\\x00\\x00\\x00\\rIHD...      1\n",
      "4      {'bytes': b'\\x89PNG\\r\\n\\x1a\\n\\x00\\x00\\x00\\rIHD...      9\n",
      "...                                                  ...    ...\n",
      "59995  {'bytes': b'\\x89PNG\\r\\n\\x1a\\n\\x00\\x00\\x00\\rIHD...      8\n",
      "59996  {'bytes': b'\\x89PNG\\r\\n\\x1a\\n\\x00\\x00\\x00\\rIHD...      3\n",
      "59997  {'bytes': b'\\x89PNG\\r\\n\\x1a\\n\\x00\\x00\\x00\\rIHD...      5\n",
      "59998  {'bytes': b'\\x89PNG\\r\\n\\x1a\\n\\x00\\x00\\x00\\rIHD...      6\n",
      "59999  {'bytes': b'\\x89PNG\\r\\n\\x1a\\n\\x00\\x00\\x00\\rIHD...      8\n",
      "\n",
      "[60000 rows x 2 columns]\n"
     ]
    }
   ],
   "source": [
    "df1 = pd.read_parquet(training_data_path).rename(columns={'image.bytes': 'image'})\n",
    "df2 = pd.read_parquet(test_data_path).rename(columns={'image.bytes': 'image'})\n",
    "\n",
    "print(df1)"
   ]
  },
  {
   "cell_type": "code",
   "execution_count": 38,
   "metadata": {},
   "outputs": [
    {
     "name": "stdout",
     "output_type": "stream",
     "text": [
      "                                                  pixels  label\n",
      "0      [0, 0, 0, 0, 0, 0, 0, 0, 0, 0, 0, 0, 0, 0, 0, ...      5\n",
      "1      [0, 0, 0, 0, 0, 0, 0, 0, 0, 0, 0, 0, 0, 0, 0, ...      0\n",
      "2      [0, 0, 0, 0, 0, 0, 0, 0, 0, 0, 0, 0, 0, 0, 0, ...      4\n",
      "3      [0, 0, 0, 0, 0, 0, 0, 0, 0, 0, 0, 0, 0, 0, 0, ...      1\n",
      "4      [0, 0, 0, 0, 0, 0, 0, 0, 0, 0, 0, 0, 0, 0, 0, ...      9\n",
      "...                                                  ...    ...\n",
      "69995  [0, 0, 0, 0, 0, 0, 0, 0, 0, 0, 0, 0, 0, 0, 0, ...      2\n",
      "69996  [0, 0, 0, 0, 0, 0, 0, 0, 0, 0, 0, 0, 0, 0, 0, ...      3\n",
      "69997  [0, 0, 0, 0, 0, 0, 0, 0, 0, 0, 0, 0, 0, 0, 0, ...      4\n",
      "69998  [0, 0, 0, 0, 0, 0, 0, 0, 0, 0, 0, 0, 0, 0, 0, ...      5\n",
      "69999  [0, 0, 0, 0, 0, 0, 0, 0, 0, 0, 0, 0, 0, 0, 0, ...      6\n",
      "\n",
      "[70000 rows x 2 columns]\n"
     ]
    }
   ],
   "source": [
    "df1['pixels'] = df1['image'].apply(bytes_to_pixels)\n",
    "\n",
    "df2['pixels'] = df2['image'].apply(bytes_to_pixels)\n",
    "\n",
    "df = pd.concat([df1[: int(len(df1) * percentage_of_dataset)], df2[: int(len(df2) * percentage_of_dataset)]], ignore_index=True)\n",
    "\n",
    "\n",
    "print(df[['pixels', 'label']])"
   ]
  },
  {
   "cell_type": "code",
   "execution_count": 39,
   "metadata": {},
   "outputs": [
    {
     "data": {
      "image/png": "[encoded data removed]",
      "text/plain": [
       "<Figure size 640x480 with 1 Axes>"
      ]
     },
     "metadata": {},
     "output_type": "display_data"
    }
   ],
   "source": [
    "def draw_from_pixels(img):\n",
    "    first_image_pixels = img\n",
    "    image_shape = (28, 28)  \n",
    "\n",
    "    image_array = np.array(first_image_pixels).reshape(image_shape)\n",
    "\n",
    "    plt.imshow(image_array, cmap='gray')\n",
    "    plt.show()\n",
    "\n",
    "draw_from_pixels(df.loc[1, 'pixels'])"
   ]
  },
  {
   "cell_type": "code",
   "execution_count": 40,
   "metadata": {},
   "outputs": [
    {
     "name": "stderr",
     "output_type": "stream",
     "text": [
      "C:\\Users\\andrz\\AppData\\Local\\Packages\\PythonSoftwareFoundation.Python.3.11_qbz5n2kfra8p0\\LocalCache\\local-packages\\Python311\\site-packages\\sklearn\\preprocessing\\_encoders.py:975: FutureWarning: `sparse` was renamed to `sparse_output` in version 1.2 and will be removed in 1.4. `sparse_output` is ignored unless you leave `sparse` to its default value.\n",
      "  warnings.warn(\n"
     ]
    },
    {
     "data": {
      "text/plain": [
       "((51771, 784), (51771, 10))"
      ]
     },
     "execution_count": 40,
     "metadata": {},
     "output_type": "execute_result"
    }
   ],
   "source": [
    "from sklearn.model_selection import train_test_split\n",
    "from sklearn.preprocessing import  OneHotEncoder\n",
    "\n",
    "\n",
    "X = df[['pixels', 'label']].copy()\n",
    "\n",
    "y = (X.pop('label')).astype(int).values.reshape(-1, 1)\n",
    "\n",
    "X = np.vstack(df['pixels'].values)\n",
    "\n",
    "train_valid_size = 0.14\n",
    "\n",
    "X_train, X_test, y_train, y_test = train_test_split(\n",
    "    X, y, \n",
    "    test_size=train_valid_size, \n",
    "    random_state=0, \n",
    "    shuffle=True, \n",
    "    stratify=y\n",
    ")\n",
    "X_train, X_valid, y_train, y_valid = train_test_split(\n",
    "    X_train, y_train, \n",
    "    test_size=train_valid_size, \n",
    "    random_state=0, \n",
    "    shuffle=True, \n",
    "    stratify=y_train\n",
    ")\n",
    "\n",
    "\n",
    "label_encoder = OneHotEncoder(sparse=False, handle_unknown='ignore')\n",
    "label_encoder.fit(y_train)\n",
    "\n",
    "y_train = label_encoder.transform(y_train)\n",
    "y_valid = label_encoder.transform(y_valid)\n",
    "y_test = label_encoder.transform(y_test)\n",
    "\n",
    "X_train.shape, y_train.shape"
   ]
  },
  {
   "cell_type": "markdown",
   "metadata": {},
   "source": [
    "# Discriminator training"
   ]
  },
  {
   "cell_type": "code",
   "execution_count": 41,
   "metadata": {},
   "outputs": [],
   "source": [
    "discriminator = Model()\n",
    "\n",
    "discriminator.add_layer(Layer(in_features=28*28, out_features=256, activation_function=fn.ReLU(), batch_norm_1d_size=128))\n",
    "discriminator.add_layer(Layer(in_features=256, out_features=128, activation_function=fn.ReLU(), batch_norm_1d_size=128))\n",
    "discriminator.add_layer(Layer(in_features=128, out_features=10, activation_function=fn.Softmax()))"
   ]
  },
  {
   "cell_type": "code",
   "execution_count": 42,
   "metadata": {},
   "outputs": [],
   "source": [
    "train_loader = DataLoader(X_train, y_train, size=256)"
   ]
  },
  {
   "cell_type": "code",
   "execution_count": 43,
   "metadata": {},
   "outputs": [],
   "source": [
    "learning_rate = 1e-3\n",
    "input_size = X_train.shape[1]\n",
    "clear_output = y_train.shape[1]\n",
    "\n",
    "num_epochs = 1000\n",
    "\n",
    "early_stopping_patience = 20"
   ]
  },
  {
   "cell_type": "code",
   "execution_count": 44,
   "metadata": {},
   "outputs": [],
   "source": [
    "from copy import deepcopy"
   ]
  },
  {
   "cell_type": "code",
   "execution_count": 45,
   "metadata": {},
   "outputs": [],
   "source": [
    "discriminator.set_learning_rate(learning_rate)"
   ]
  },
  {
   "cell_type": "code",
   "execution_count": 46,
   "metadata": {},
   "outputs": [
    {
     "name": "stdout",
     "output_type": "stream",
     "text": [
      "0: loss=0.09141406595574574; best loss=0.09141406595574574\n",
      "5: loss=0.05023641102269737; best loss=0.035637706933373564\n",
      "10: loss=0.030090204941063497; best loss=0.030090204941063497\n",
      "15: loss=0.04105773496718078; best loss=0.030090204941063497\n",
      "20: loss=0.024028896486449944; best loss=0.024028896486449944\n",
      "25: loss=0.025728689807034827; best loss=0.024028896486449944\n",
      "30: loss=0.019914624017304376; best loss=0.019914624017304376\n",
      "35: loss=0.021981418168472697; best loss=0.019914624017304376\n",
      "40: loss=0.019582391686465396; best loss=0.019582391686465396\n",
      "45: loss=0.022595693052064294; best loss=0.017766702897111446\n",
      "50: loss=0.02079928917398648; best loss=0.017766702897111446\n",
      "55: loss=0.02162212863154153; best loss=0.017766702897111446\n",
      "60: loss=0.019451038042543983; best loss=0.017712456593617965\n",
      "65: loss=0.019493538853796913; best loss=0.01614406422643628\n",
      "70: loss=0.021185605841108082; best loss=0.01614406422643628\n",
      "75: loss=0.014757296555986942; best loss=0.014757296555986942\n",
      "80: loss=0.019814181684499273; best loss=0.013969210561897587\n",
      "85: loss=0.01824960993532035; best loss=0.013969210561897587\n",
      "90: loss=0.022499086388909403; best loss=0.013969210561897587\n",
      "95: loss=0.02390520078039775; best loss=0.013969210561897587\n",
      "Early stop\n",
      "97: 0.013969210561897587\n"
     ]
    }
   ],
   "source": [
    "discriminator.train()\n",
    "\n",
    "best_model = deepcopy(discriminator)\n",
    "best_result = 10**10\n",
    "no_proggress_counter = 0\n",
    "\n",
    "for epoch in range(num_epochs):\n",
    "    X_batch, y_batch = train_loader.get_batch()\n",
    "\n",
    "    for i in range(len(X_batch)):\n",
    "        y_pred = discriminator.forward(X_batch[i])\n",
    "        discriminator.backward(y_batch[i])\n",
    "\n",
    "    y_pred = discriminator.predict(X_train)\n",
    "    loss = MSE(y_pred, y_train)\n",
    "\n",
    "    no_proggress_counter += 1\n",
    "    if loss < best_result:\n",
    "        best_model = deepcopy(discriminator)\n",
    "        best_result = loss\n",
    "        no_proggress_counter = 0\n",
    "\n",
    "    if epoch % 5 == 0:\n",
    "        print(f\"{epoch}: loss={loss}; best loss={best_result}\")\n",
    "\n",
    "    if no_proggress_counter == early_stopping_patience:\n",
    "        print(\"Early stop\")\n",
    "        print(f\"{epoch}: {best_result}\")\n",
    "        break\n"
   ]
  },
  {
   "cell_type": "markdown",
   "metadata": {},
   "source": [
    "## Testing"
   ]
  },
  {
   "cell_type": "code",
   "execution_count": 49,
   "metadata": {},
   "outputs": [
    {
     "name": "stdout",
     "output_type": "stream",
     "text": [
      "Accuracy: 0.9289868380777472\n",
      "Confusion Matrix:\n",
      "[[ 905    1   17    2    6   13   11    1   10    0]\n",
      " [   0 1087    6    1    0    3    2    1    3    0]\n",
      " [   1    3  928    9   10    2    7    5   13    1]\n",
      " [   0    8   18  908    1   26    3    2   21   13]\n",
      " [   0    0    7    0  931    0    5    0    1   11]\n",
      " [   6    3    6    5   16  819   15    1    5    8]\n",
      " [   2    1    7    0   13   12  927    0    1    0]\n",
      " [   0   11   21    4   27    2    0  928    8   20]\n",
      " [   3   23   26    9   12   20   12    2  843    6]\n",
      " [   4    9    4   11   94    9    1    7    6  829]]\n",
      "Classification Report:\n",
      "              precision    recall  f1-score   support\n",
      "\n",
      "           0       0.98      0.94      0.96       966\n",
      "           1       0.95      0.99      0.97      1103\n",
      "           2       0.89      0.95      0.92       979\n",
      "           3       0.96      0.91      0.93      1000\n",
      "           4       0.84      0.97      0.90       955\n",
      "           5       0.90      0.93      0.92       884\n",
      "           6       0.94      0.96      0.95       963\n",
      "           7       0.98      0.91      0.94      1021\n",
      "           8       0.93      0.88      0.90       956\n",
      "           9       0.93      0.85      0.89       974\n",
      "\n",
      "    accuracy                           0.93      9801\n",
      "   macro avg       0.93      0.93      0.93      9801\n",
      "weighted avg       0.93      0.93      0.93      9801\n",
      "\n",
      "AUROC: 96.04%\n"
     ]
    }
   ],
   "source": [
    "from sklearn.metrics import  roc_auc_score\n",
    "from sklearn.metrics import accuracy_score, confusion_matrix, classification_report\n",
    "\n",
    "\n",
    "y_pred_test_score = best_model.predict(X_test)\n",
    "\n",
    "auroc = roc_auc_score(y_test, y_pred_test_score)\n",
    "\n",
    "\n",
    "y_true_flat = np.argmax(y_test, axis=1)\n",
    "y_pred_flat = np.argmax(y_pred_test_score, axis=1)\n",
    "\n",
    "accuracy = accuracy_score(y_true_flat, y_pred_flat)\n",
    "conf_matrix = confusion_matrix(y_true_flat, y_pred_flat)\n",
    "classification_rep = classification_report(y_true_flat, y_pred_flat)\n",
    "\n",
    "print(f\"Accuracy: {accuracy}\")\n",
    "print(\"Confusion Matrix:\")\n",
    "print(conf_matrix)\n",
    "print(\"Classification Report:\")\n",
    "print(classification_rep)\n",
    "print(f\"AUROC: {100 * auroc:.2f}%\")"
   ]
  },
  {
   "cell_type": "code",
   "execution_count": 50,
   "metadata": {},
   "outputs": [],
   "source": [
    "path = 'models/discriminator1.pickle'\n",
    "best_model.save(path)"
   ]
  }
 ],
 "metadata": {
  "kernelspec": {
   "display_name": "Python 3",
   "language": "python",
   "name": "python3"
  },
  "language_info": {
   "codemirror_mode": {
    "name": "ipython",
    "version": 3
   },
   "file_extension": ".py",
   "mimetype": "text/x-python",
   "name": "python",
   "nbconvert_exporter": "python",
   "pygments_lexer": "ipython3",
   "version": "3.11.9"
  }
 },
 "nbformat": 4,
 "nbformat_minor": 2
}
