{
 "cells": [
  {
   "cell_type": "code",
   "execution_count": 1633,
   "metadata": {},
   "outputs": [],
   "source": [
    "import activation_func as fn\n",
    "from model import Model\n",
    "from layer import Layer\n",
    "from loss_func import MSE\n",
    "from data_loader import DataLoader"
   ]
  },
  {
   "cell_type": "code",
   "execution_count": 1634,
   "metadata": {},
   "outputs": [],
   "source": [
    "import numpy as np\n",
    "import pandas as pd\n",
    "import cv2\n",
    "import matplotlib.pyplot as plt"
   ]
  },
  {
   "cell_type": "code",
   "execution_count": 1635,
   "metadata": {},
   "outputs": [],
   "source": [
    "def draw_from_pixels(img):\n",
    "    first_image_pixels = img\n",
    "    image_shape = (28, 28)  \n",
    "\n",
    "    image_array = np.array(first_image_pixels).reshape(image_shape)\n",
    "\n",
    "    plt.imshow(image_array, cmap='gray')\n",
    "    plt.show()"
   ]
  },
  {
   "cell_type": "code",
   "execution_count": 1636,
   "metadata": {},
   "outputs": [],
   "source": [
    "discriminator = Model()\n",
    "\n",
    "discriminator = discriminator.load('models/discriminator1.pickle')"
   ]
  },
  {
   "cell_type": "code",
   "execution_count": 1637,
   "metadata": {},
   "outputs": [],
   "source": [
    "generator = Model(learning_rate=10e-6)\n",
    "\n",
    "generator.add_layer(Layer(in_features=100, out_features=7*7, activation_function=fn.LeakyReLU(0.2)))\n",
    "generator.add_layer(Layer(in_features=7*7, out_features=14*14, activation_function=fn.LeakyReLU(0.2)))\n",
    "generator.add_layer(Layer(in_features=14*14, out_features=56*56, activation_function=fn.LeakyReLU(0.2)))\n",
    "generator.add_layer(Layer(in_features=56*56, out_features=28*28, activation_function=fn.LeakyReLU(0.2)))"
   ]
  },
  {
   "cell_type": "code",
   "execution_count": 1638,
   "metadata": {},
   "outputs": [],
   "source": [
    "class GenTrainer:\n",
    "    def __init__(self, generator, discriminator):\n",
    "        self.generator = generator\n",
    "        self.discriminator = discriminator\n",
    "\n",
    "        self.generator.train()\n",
    "        self.discriminator.eval()\n",
    "\n",
    "    def train(self, input, y):\n",
    "        output = generator.forward(input)\n",
    "        \n",
    "        evaluation = discriminator.forward(output)\n",
    "\n",
    "        error = discriminator.backward(y)\n",
    "        generator.backward_from(error)\n",
    "\n",
    "        return output, evaluation\n"
   ]
  },
  {
   "cell_type": "code",
   "execution_count": 1639,
   "metadata": {},
   "outputs": [],
   "source": [
    "prompt = 3"
   ]
  },
  {
   "cell_type": "code",
   "execution_count": 1640,
   "metadata": {},
   "outputs": [],
   "source": [
    "trainer = GenTrainer(generator, discriminator)"
   ]
  },
  {
   "cell_type": "code",
   "execution_count": 1641,
   "metadata": {},
   "outputs": [],
   "source": [
    "one_hot_prompt = np.zeros(10)\n",
    "one_hot_prompt[prompt] = 1"
   ]
  },
  {
   "cell_type": "code",
   "execution_count": 1642,
   "metadata": {},
   "outputs": [],
   "source": [
    "num_epochs = 200\n",
    "early_stopping_patience=20"
   ]
  },
  {
   "cell_type": "code",
   "execution_count": 1643,
   "metadata": {},
   "outputs": [
    {
     "name": "stdout",
     "output_type": "stream",
     "text": [
      "0: 0.05705999090295476, evaluation = 0.39731495191583277\n",
      "4: 4.0861362563801936e-11, evaluation = 0.9999846333379357\n",
      "8: 3.88158517630719e-11, evaluation = 0.9999850275209805\n",
      "12: 3.9563354554267886e-11, evaluation = 0.9999849295237805\n",
      "16: 3.6331044328609066e-11, evaluation = 0.999985523399795\n",
      "20: 3.213620774877816e-11, evaluation = 0.9999862889535203\n",
      "24: 3.2316855708302375e-11, evaluation = 0.999986290032903\n",
      "28: 2.8925710144026067e-11, evaluation = 0.9999869473625002\n",
      "32: 2.7829293799288223e-11, evaluation = 0.9999871902193355\n",
      "36: 2.5888617322900334e-11, evaluation = 0.9999875952584536\n",
      "40: 2.554018854114209e-11, evaluation = 0.9999876985405775\n",
      "44: 2.5109137612705595e-11, evaluation = 0.9999878070041298\n",
      "48: 2.3430239336564814e-11, evaluation = 0.9999881777113135\n",
      "52: 2.319874860109004e-11, evaluation = 0.9999882547183793\n",
      "56: 2.035734352931159e-11, evaluation = 0.9999888863790186\n",
      "60: 2.0185087553743076e-11, evaluation = 0.9999889510067147\n",
      "64: 1.955441014817484e-11, evaluation = 0.9999891124629398\n",
      "68: 1.9591553861493688e-11, evaluation = 0.9999891230162292\n",
      "72: 1.9301984139356897e-11, evaluation = 0.9999892026241205\n",
      "76: 1.703530516665594e-11, evaluation = 0.9999897576408159\n",
      "80: 1.850961342731422e-11, evaluation = 0.9999894155996286\n",
      "84: 1.7453848625616595e-11, evaluation = 0.9999896886538655\n",
      "88: 1.5928409322415954e-11, evaluation = 0.999990087598425\n",
      "92: 1.5351061096248402e-11, evaluation = 0.9999902461356955\n",
      "96: 1.513016968773547e-11, evaluation = 0.9999903250445931\n",
      "100: 1.4715996375418336e-11, evaluation = 0.999990444421376\n",
      "104: 1.4290201958902893e-11, evaluation = 0.9999905738823203\n",
      "108: 1.3855002043768257e-11, evaluation = 0.9999907018760106\n",
      "112: 1.2997690905384547e-11, evaluation = 0.9999909596708944\n",
      "116: 1.3277679942561648e-11, evaluation = 0.9999908889716569\n",
      "120: 1.2461137002557311e-11, evaluation = 0.9999911445089094\n",
      "124: 1.2659118206821018e-11, evaluation = 0.9999910855102889\n",
      "128: 1.2997897211549844e-11, evaluation = 0.9999909938818874\n",
      "132: 1.2707372937603866e-11, evaluation = 0.9999910865985663\n",
      "136: 1.262055995794484e-11, evaluation = 0.9999911150296893\n",
      "140: 1.209705742690943e-11, evaluation = 0.9999912791207647\n",
      "144: 1.188306742432223e-11, evaluation = 0.9999913496288028\n",
      "148: 1.0831351014366249e-11, evaluation = 0.9999916960628064\n",
      "152: 1.0417308584670116e-11, evaluation = 0.9999918402685671\n",
      "156: 1.1387724725283206e-11, evaluation = 0.9999915184867649\n",
      "160: 1.1098803707215022e-11, evaluation = 0.9999916143785613\n",
      "164: 1.003721442442025e-11, evaluation = 0.9999919783648359\n",
      "168: 1.0847627397613447e-11, evaluation = 0.9999917049114654\n",
      "172: 9.576343487260793e-12, evaluation = 0.9999921503118849\n",
      "176: 9.817773542924015e-12, evaluation = 0.9999920616360006\n",
      "180: 9.505413099193032e-12, evaluation = 0.9999921784982189\n",
      "184: 9.717483978438157e-12, evaluation = 0.9999921028361289\n",
      "188: 9.241143917069426e-12, evaluation = 0.9999922822547959\n",
      "192: 9.060757999759698e-12, evaluation = 0.9999923526106145\n",
      "196: 8.565561579627271e-12, evaluation = 0.9999925407053625\n"
     ]
    }
   ],
   "source": [
    "iter = 0\n",
    "best_output = None\n",
    "best_result = 10*10\n",
    "\n",
    "no_proggress_cnt = 0\n",
    "\n",
    "for epoch in range(num_epochs):\n",
    "    z = np.random.uniform(0, 255, 100)\n",
    "\n",
    "    output, evaluation = trainer.train(z, one_hot_prompt)\n",
    "\n",
    "    result = MSE(evaluation, one_hot_prompt)\n",
    "    no_proggress_cnt += 1\n",
    "\n",
    "    if result < best_result:\n",
    "        best_result = result\n",
    "        best_output = output.copy()\n",
    "        no_proggress_cnt = 0\n",
    "    \n",
    "\n",
    "    if epoch % 4 == 0:\n",
    "        print(f\"{epoch}: {result}, evaluation = {evaluation[prompt]}\")\n",
    "        # draw_from_pixels(output)\n",
    "        iter+=1\n",
    "\n",
    "    if no_proggress_cnt == early_stopping_patience:\n",
    "        print(\"Early stop\")\n",
    "        print(best_result)\n",
    "        break\n",
    "\n"
   ]
  },
  {
   "cell_type": "code",
   "execution_count": 1644,
   "metadata": {},
   "outputs": [],
   "source": [
    "z = np.random.uniform(0, 255, 100)\n",
    "y = generator.predict(np.array([z]))"
   ]
  },
  {
   "cell_type": "code",
   "execution_count": 1645,
   "metadata": {},
   "outputs": [
    {
     "data": {
      "image/png": "[encoded data removed]",
      "text/plain": [
       "<Figure size 640x480 with 1 Axes>"
      ]
     },
     "metadata": {},
     "output_type": "display_data"
    },
    {
     "data": {
      "image/png": "[encoded data removed]",
      "text/plain": [
       "<Figure size 640x480 with 1 Axes>"
      ]
     },
     "metadata": {},
     "output_type": "display_data"
    }
   ],
   "source": [
    "draw_from_pixels(y)\n",
    "draw_from_pixels(best_output)"
   ]
  },
  {
   "cell_type": "code",
   "execution_count": 1646,
   "metadata": {},
   "outputs": [
    {
     "data": {
      "text/plain": [
       "array([[0., 0., 0., 1., 0., 0., 0., 0., 0., 0.]])"
      ]
     },
     "execution_count": 1646,
     "metadata": {},
     "output_type": "execute_result"
    }
   ],
   "source": [
    "discriminator.predict(y)"
   ]
  }
 ],
 "metadata": {
  "kernelspec": {
   "display_name": "Python 3",
   "language": "python",
   "name": "python3"
  },
  "language_info": {
   "codemirror_mode": {
    "name": "ipython",
    "version": 3
   },
   "file_extension": ".py",
   "mimetype": "text/x-python",
   "name": "python",
   "nbconvert_exporter": "python",
   "pygments_lexer": "ipython3",
   "version": "3.11.9"
  }
 },
 "nbformat": 4,
 "nbformat_minor": 2
}
