{
 "cells": [
  {
   "cell_type": "code",
   "execution_count": 1,
   "metadata": {},
   "outputs": [],
   "source": [
    "import activation_func as fn\n",
    "from model import Model\n",
    "from layer import Layer\n",
    "from loss_func import MSE\n",
    "from data_loader import DataLoader"
   ]
  },
  {
   "cell_type": "code",
   "execution_count": 2,
   "metadata": {},
   "outputs": [],
   "source": [
    "import numpy as np\n",
    "import pandas as pd\n",
    "import cv2\n",
    "import matplotlib.pyplot as plt"
   ]
  },
  {
   "cell_type": "markdown",
   "metadata": {},
   "source": [
    "# Dataset initialisation"
   ]
  },
  {
   "cell_type": "code",
   "execution_count": 3,
   "metadata": {},
   "outputs": [],
   "source": [
    "def bytes_to_pixels(image):\n",
    "    image_bytes = image\n",
    "    image_array = np.frombuffer(image_bytes, dtype=np.uint8)\n",
    "    image = cv2.imdecode(image_array, cv2.IMREAD_GRAYSCALE)\n",
    "    pixel_values = image.flatten()\n",
    "    return pixel_values"
   ]
  },
  {
   "cell_type": "code",
   "execution_count": 4,
   "metadata": {},
   "outputs": [],
   "source": [
    "training_data_path = 'dataset/train.parquet'\n",
    "test_data_path = 'dataset/test.parquet'"
   ]
  },
  {
   "cell_type": "code",
   "execution_count": 5,
   "metadata": {},
   "outputs": [],
   "source": [
    "percentage_of_dataset = 1"
   ]
  },
  {
   "cell_type": "code",
   "execution_count": 6,
   "metadata": {},
   "outputs": [
    {
     "name": "stdout",
     "output_type": "stream",
     "text": [
      "       label                                              image image.path\n",
      "0          5  b'\\x89PNG\\r\\n\\x1a\\n\\x00\\x00\\x00\\rIHDR\\x00\\x00\\...       None\n",
      "1          0  b'\\x89PNG\\r\\n\\x1a\\n\\x00\\x00\\x00\\rIHDR\\x00\\x00\\...       None\n",
      "2          4  b'\\x89PNG\\r\\n\\x1a\\n\\x00\\x00\\x00\\rIHDR\\x00\\x00\\...       None\n",
      "3          1  b\"\\x89PNG\\r\\n\\x1a\\n\\x00\\x00\\x00\\rIHDR\\x00\\x00\\...       None\n",
      "4          9  b'\\x89PNG\\r\\n\\x1a\\n\\x00\\x00\\x00\\rIHDR\\x00\\x00\\...       None\n",
      "...      ...                                                ...        ...\n",
      "59995      8  b'\\x89PNG\\r\\n\\x1a\\n\\x00\\x00\\x00\\rIHDR\\x00\\x00\\...       None\n",
      "59996      3  b'\\x89PNG\\r\\n\\x1a\\n\\x00\\x00\\x00\\rIHDR\\x00\\x00\\...       None\n",
      "59997      5  b'\\x89PNG\\r\\n\\x1a\\n\\x00\\x00\\x00\\rIHDR\\x00\\x00\\...       None\n",
      "59998      6  b'\\x89PNG\\r\\n\\x1a\\n\\x00\\x00\\x00\\rIHDR\\x00\\x00\\...       None\n",
      "59999      8  b'\\x89PNG\\r\\n\\x1a\\n\\x00\\x00\\x00\\rIHDR\\x00\\x00\\...       None\n",
      "\n",
      "[60000 rows x 3 columns]\n"
     ]
    }
   ],
   "source": [
    "df1 = pd.read_parquet(training_data_path).rename(columns={'image.bytes': 'image'})\n",
    "df2 = pd.read_parquet(test_data_path).rename(columns={'image.bytes': 'image'})\n",
    "\n",
    "print(df1)"
   ]
  },
  {
   "cell_type": "code",
   "execution_count": 7,
   "metadata": {},
   "outputs": [
    {
     "name": "stdout",
     "output_type": "stream",
     "text": [
      "                                                  pixels  label\n",
      "0      [0, 0, 0, 0, 0, 0, 0, 0, 0, 0, 0, 0, 0, 0, 0, ...      5\n",
      "1      [0, 0, 0, 0, 0, 0, 0, 0, 0, 0, 0, 0, 0, 0, 0, ...      0\n",
      "2      [0, 0, 0, 0, 0, 0, 0, 0, 0, 0, 0, 0, 0, 0, 0, ...      4\n",
      "3      [0, 0, 0, 0, 0, 0, 0, 0, 0, 0, 0, 0, 0, 0, 0, ...      1\n",
      "4      [0, 0, 0, 0, 0, 0, 0, 0, 0, 0, 0, 0, 0, 0, 0, ...      9\n",
      "...                                                  ...    ...\n",
      "69995  [0, 0, 0, 0, 0, 0, 0, 0, 0, 0, 0, 0, 0, 0, 0, ...      2\n",
      "69996  [0, 0, 0, 0, 0, 0, 0, 0, 0, 0, 0, 0, 0, 0, 0, ...      3\n",
      "69997  [0, 0, 0, 0, 0, 0, 0, 0, 0, 0, 0, 0, 0, 0, 0, ...      4\n",
      "69998  [0, 0, 0, 0, 0, 0, 0, 0, 0, 0, 0, 0, 0, 0, 0, ...      5\n",
      "69999  [0, 0, 0, 0, 0, 0, 0, 0, 0, 0, 0, 0, 0, 0, 0, ...      6\n",
      "\n",
      "[70000 rows x 2 columns]\n"
     ]
    }
   ],
   "source": [
    "df1['pixels'] = df1['image'].apply(bytes_to_pixels)\n",
    "\n",
    "df2['pixels'] = df2['image'].apply(bytes_to_pixels)\n",
    "\n",
    "df = pd.concat([df1[: int(len(df1) * percentage_of_dataset)], df2[: int(len(df2) * percentage_of_dataset)]], ignore_index=True)\n",
    "\n",
    "\n",
    "print(df[['pixels', 'label']])"
   ]
  },
  {
   "cell_type": "code",
   "execution_count": 8,
   "metadata": {},
   "outputs": [
    {
     "data": {
      "image/png": "[encoded data removed]",
      "text/plain": [
       "<Figure size 640x480 with 1 Axes>"
      ]
     },
     "metadata": {},
     "output_type": "display_data"
    }
   ],
   "source": [
    "def draw_from_pixels(img):\n",
    "    first_image_pixels = img\n",
    "    image_shape = (28, 28)  \n",
    "\n",
    "    image_array = np.array(first_image_pixels).reshape(image_shape)\n",
    "\n",
    "    plt.imshow(image_array, cmap='gray')\n",
    "    plt.show()\n",
    "\n",
    "draw_from_pixels(df.loc[1, 'pixels'])"
   ]
  },
  {
   "cell_type": "code",
   "execution_count": 9,
   "metadata": {},
   "outputs": [
    {
     "name": "stderr",
     "output_type": "stream",
     "text": [
      "/home/andrzej/.local/lib/python3.10/site-packages/sklearn/preprocessing/_encoders.py:975: FutureWarning: `sparse` was renamed to `sparse_output` in version 1.2 and will be removed in 1.4. `sparse_output` is ignored unless you leave `sparse` to its default value.\n",
      "  warnings.warn(\n"
     ]
    },
    {
     "data": {
      "text/plain": [
       "((51771, 784), (51771, 10))"
      ]
     },
     "execution_count": 9,
     "metadata": {},
     "output_type": "execute_result"
    }
   ],
   "source": [
    "from sklearn.model_selection import train_test_split\n",
    "from sklearn.preprocessing import  OneHotEncoder\n",
    "\n",
    "\n",
    "X = df[['pixels', 'label']].copy()\n",
    "\n",
    "y = (X.pop('label')).astype(int).values.reshape(-1, 1)\n",
    "\n",
    "X = np.vstack(df['pixels'].values)\n",
    "\n",
    "train_valid_size = 0.14\n",
    "\n",
    "X_train, X_test, y_train, y_test = train_test_split(\n",
    "    X, y, \n",
    "    test_size=train_valid_size, \n",
    "    random_state=0, \n",
    "    shuffle=True, \n",
    "    stratify=y\n",
    ")\n",
    "X_train, X_valid, y_train, y_valid = train_test_split(\n",
    "    X_train, y_train, \n",
    "    test_size=train_valid_size, \n",
    "    random_state=0, \n",
    "    shuffle=True, \n",
    "    stratify=y_train\n",
    ")\n",
    "\n",
    "\n",
    "label_encoder = OneHotEncoder(sparse=False, handle_unknown='ignore')\n",
    "label_encoder.fit(y_train)\n",
    "\n",
    "y_train = label_encoder.transform(y_train)\n",
    "y_valid = label_encoder.transform(y_valid)\n",
    "y_test = label_encoder.transform(y_test)\n",
    "\n",
    "X_train.shape, y_train.shape"
   ]
  },
  {
   "cell_type": "markdown",
   "metadata": {},
   "source": [
    "# Discriminator training"
   ]
  },
  {
   "cell_type": "code",
   "execution_count": 10,
   "metadata": {},
   "outputs": [],
   "source": [
    "discriminator = Model()\n",
    "\n",
    "discriminator.add_layer(Layer(in_features=28*28, out_features=256, activation_function=fn.ReLU(), batch_norm_1d_size=128))\n",
    "discriminator.add_layer(Layer(in_features=256, out_features=128, activation_function=fn.ReLU(), batch_norm_1d_size=128))\n",
    "discriminator.add_layer(Layer(in_features=128, out_features=10, activation_function=fn.Softmax()))"
   ]
  },
  {
   "cell_type": "code",
   "execution_count": 11,
   "metadata": {},
   "outputs": [],
   "source": [
    "train_loader = DataLoader(X_train, y_train, size=256)"
   ]
  },
  {
   "cell_type": "code",
   "execution_count": 12,
   "metadata": {},
   "outputs": [],
   "source": [
    "learning_rate = 1e-3\n",
    "input_size = X_train.shape[1]\n",
    "clear_output = y_train.shape[1]\n",
    "\n",
    "num_epochs = 100\n",
    "\n",
    "early_stopping_patience = 5"
   ]
  },
  {
   "cell_type": "code",
   "execution_count": 13,
   "metadata": {},
   "outputs": [],
   "source": [
    "from copy import deepcopy"
   ]
  },
  {
   "cell_type": "code",
   "execution_count": 14,
   "metadata": {},
   "outputs": [],
   "source": [
    "discriminator.set_learning_rate(learning_rate)"
   ]
  },
  {
   "cell_type": "code",
   "execution_count": 15,
   "metadata": {},
   "outputs": [
    {
     "name": "stdout",
     "output_type": "stream",
     "text": [
      "0: loss=0.0746011327294385; best loss=0.0746011327294385\n",
      "1: loss=0.05130269798833649; best loss=0.05130269798833649\n",
      "2: loss=0.04417144718117187; best loss=0.04417144718117187\n",
      "3: loss=0.052334358243592415; best loss=0.04417144718117187\n",
      "4: loss=0.041726084432913195; best loss=0.041726084432913195\n",
      "5: loss=0.0388750458737528; best loss=0.0388750458737528\n",
      "6: loss=0.03962450020281625; best loss=0.0388750458737528\n",
      "7: loss=0.029671065644458094; best loss=0.029671065644458094\n",
      "8: loss=0.03296053579065045; best loss=0.029671065644458094\n",
      "9: loss=0.02512216841630102; best loss=0.02512216841630102\n",
      "10: loss=0.032233968308236986; best loss=0.02512216841630102\n",
      "11: loss=0.03066581677000636; best loss=0.02512216841630102\n",
      "12: loss=0.02381642232136322; best loss=0.02381642232136322\n",
      "13: loss=0.03232697832639758; best loss=0.02381642232136322\n",
      "14: loss=0.0278724751786407; best loss=0.02381642232136322\n",
      "15: loss=0.025539394641787873; best loss=0.02381642232136322\n",
      "16: loss=0.025442817130266197; best loss=0.02381642232136322\n",
      "17: loss=0.024558150315813872; best loss=0.02381642232136322\n",
      "Early stop\n",
      "17: 0.02381642232136322\n"
     ]
    }
   ],
   "source": [
    "discriminator.train()\n",
    "\n",
    "best_model = deepcopy(discriminator)\n",
    "best_result = 10**10\n",
    "no_proggress_counter = 0\n",
    "\n",
    "for epoch in range(num_epochs):\n",
    "    X_batch, y_batch = train_loader.get_batch()\n",
    "    for i in range(len(X_batch)):\n",
    "        y_pred = discriminator.forward(X_batch[i])\n",
    "        discriminator.backward(y_batch[i])\n",
    "\n",
    "    y_pred = discriminator.predict(X_train)\n",
    "    loss = MSE(y_pred, y_train)\n",
    "\n",
    "    no_proggress_counter += 1\n",
    "    if loss < best_result:\n",
    "        best_model = deepcopy(discriminator)\n",
    "        best_result = loss\n",
    "        no_proggress_counter = 0\n",
    "\n",
    "    if epoch % 1 == 0:\n",
    "        print(f\"{epoch}: loss={loss}; best loss={best_result}\")\n",
    "\n",
    "    if no_proggress_counter == early_stopping_patience:\n",
    "        print(\"Early stop\")\n",
    "        print(f\"{epoch}: {best_result}\")\n",
    "        break\n"
   ]
  },
  {
   "cell_type": "markdown",
   "metadata": {},
   "source": [
    "## Testing"
   ]
  },
  {
   "cell_type": "code",
   "execution_count": 16,
   "metadata": {},
   "outputs": [
    {
     "name": "stdout",
     "output_type": "stream",
     "text": [
      "Accuracy: 0.8799102132435466\n",
      "Confusion Matrix:\n",
      "[[ 885    0   10   10    5    3   13    1   38    1]\n",
      " [   0 1063    8    1    0    1    9    3   18    0]\n",
      " [   2    2  864   18   20    0   14   16   39    4]\n",
      " [   2    4   18  870    0   17    9   18   57    5]\n",
      " [   1    0    7    0  826    0   13    8   16   84]\n",
      " [  24    4    6   67   11  592   30    9  125   16]\n",
      " [   7    4   19    1    6    9  897    0   19    1]\n",
      " [   1    7   22    2   14    0    0  957    4   14]\n",
      " [   5   19   25   21    3   11    6   24  837    5]\n",
      " [   8    7    6   11   29    7    0   46   27  833]]\n",
      "Classification Report:\n",
      "              precision    recall  f1-score   support\n",
      "\n",
      "           0       0.95      0.92      0.93       966\n",
      "           1       0.96      0.96      0.96      1103\n",
      "           2       0.88      0.88      0.88       979\n",
      "           3       0.87      0.87      0.87      1000\n",
      "           4       0.90      0.86      0.88       955\n",
      "           5       0.93      0.67      0.78       884\n",
      "           6       0.91      0.93      0.92       963\n",
      "           7       0.88      0.94      0.91      1021\n",
      "           8       0.71      0.88      0.78       956\n",
      "           9       0.87      0.86      0.86       974\n",
      "\n",
      "    accuracy                           0.88      9801\n",
      "   macro avg       0.88      0.88      0.88      9801\n",
      "weighted avg       0.89      0.88      0.88      9801\n",
      "\n",
      "AUROC: 93.19%\n"
     ]
    }
   ],
   "source": [
    "from sklearn.metrics import  roc_auc_score\n",
    "from sklearn.metrics import accuracy_score, confusion_matrix, classification_report\n",
    "\n",
    "\n",
    "y_pred_test_score = best_model.predict(X_test)\n",
    "\n",
    "auroc = roc_auc_score(y_test, y_pred_test_score)\n",
    "\n",
    "\n",
    "y_true_flat = np.argmax(y_test, axis=1)\n",
    "y_pred_flat = np.argmax(y_pred_test_score, axis=1)\n",
    "\n",
    "accuracy = accuracy_score(y_true_flat, y_pred_flat)\n",
    "conf_matrix = confusion_matrix(y_true_flat, y_pred_flat)\n",
    "classification_rep = classification_report(y_true_flat, y_pred_flat)\n",
    "\n",
    "print(f\"Accuracy: {accuracy}\")\n",
    "print(\"Confusion Matrix:\")\n",
    "print(conf_matrix)\n",
    "print(\"Classification Report:\")\n",
    "print(classification_rep)\n",
    "print(f\"AUROC: {100 * auroc:.2f}%\")"
   ]
  },
  {
   "cell_type": "code",
   "execution_count": 17,
   "metadata": {},
   "outputs": [],
   "source": [
    "path = 'models/discriminator1.pickle'\n",
    "best_model.save(path)"
   ]
  },
  {
   "cell_type": "markdown",
   "metadata": {},
   "source": [
    "# Generator"
   ]
  },
  {
   "cell_type": "code",
   "execution_count": 18,
   "metadata": {},
   "outputs": [],
   "source": [
    "generator = Model(learning_rate=0.0001)\n",
    "\n",
    "generator.add_layer(Layer(in_features=100, out_features=7*7, activation_function=fn.LeakyReLU(0.2)))\n",
    "generator.add_layer(Layer(in_features=7*7, out_features=14*14, activation_function=fn.LeakyReLU(0.2)))\n",
    "generator.add_layer(Layer(in_features=14*14, out_features=28*28, activation_function=fn.LeakyReLU(0.2)))"
   ]
  },
  {
   "cell_type": "code",
   "execution_count": 19,
   "metadata": {},
   "outputs": [],
   "source": [
    "class GenTrainer:\n",
    "    def __init__(self, generator, discriminator):\n",
    "        self.generator = generator\n",
    "        self.discriminator = discriminator\n",
    "\n",
    "        self.generator.train()\n",
    "        self.discriminator.eval()\n",
    "\n",
    "    def train(self, x, y):\n",
    "        x = generator.forward(x)\n",
    "        \n",
    "        x = discriminator.forward(x)\n",
    "\n",
    "        error = discriminator.backward(y)\n",
    "        generator.backward(error)\n"
   ]
  },
  {
   "cell_type": "code",
   "execution_count": 20,
   "metadata": {},
   "outputs": [],
   "source": [
    "prompt = 2"
   ]
  },
  {
   "cell_type": "code",
   "execution_count": 21,
   "metadata": {},
   "outputs": [],
   "source": [
    "trainer = GenTrainer(generator, best_model)"
   ]
  },
  {
   "cell_type": "code",
   "execution_count": 22,
   "metadata": {},
   "outputs": [],
   "source": [
    "one_hot_prompt = np.zeros(10)\n",
    "one_hot_prompt[prompt] = 1"
   ]
  },
  {
   "cell_type": "code",
   "execution_count": 23,
   "metadata": {},
   "outputs": [],
   "source": [
    "num_epochs = 200"
   ]
  },
  {
   "cell_type": "code",
   "execution_count": 24,
   "metadata": {},
   "outputs": [
    {
     "name": "stderr",
     "output_type": "stream",
     "text": [
      "/home/andrzej/Documents/Informatyka/python/network-2.0/layer.py:43: RuntimeWarning: overflow encountered in matmul\n",
      "  self.input = self.input_links @ self.weights\n",
      "/home/andrzej/Documents/Informatyka/python/network-2.0/layer.py:43: RuntimeWarning: invalid value encountered in matmul\n",
      "  self.input = self.input_links @ self.weights\n"
     ]
    }
   ],
   "source": [
    "for epoch in range(num_epochs):\n",
    "    z = np.random.uniform(0, 255, 100)\n",
    "\n",
    "    trainer.train(z, one_hot_prompt)"
   ]
  },
  {
   "cell_type": "code",
   "execution_count": 25,
   "metadata": {},
   "outputs": [],
   "source": [
    "z = np.random.uniform(0, 255, 100)\n",
    "y = generator.predict(np.array([z]))"
   ]
  },
  {
   "cell_type": "code",
   "execution_count": 26,
   "metadata": {},
   "outputs": [
    {
     "name": "stdout",
     "output_type": "stream",
     "text": [
      "[[nan nan nan nan nan nan nan nan nan nan nan nan nan nan nan nan nan nan\n",
      "  nan nan nan nan nan nan nan nan nan nan nan nan nan nan nan nan nan nan\n",
      "  nan nan nan nan nan nan nan nan nan nan nan nan nan nan nan nan nan nan\n",
      "  nan nan nan nan nan nan nan nan nan nan nan nan nan nan nan nan nan nan\n",
      "  nan nan nan nan nan nan nan nan nan nan nan nan nan nan nan nan nan nan\n",
      "  nan nan nan nan nan nan nan nan nan nan nan nan nan nan nan nan nan nan\n",
      "  nan nan nan nan nan nan nan nan nan nan nan nan nan nan nan nan nan nan\n",
      "  nan nan nan nan nan nan nan nan nan nan nan nan nan nan nan nan nan nan\n",
      "  nan nan nan nan nan nan nan nan nan nan nan nan nan nan nan nan nan nan\n",
      "  nan nan nan nan nan nan nan nan nan nan nan nan nan nan nan nan nan nan\n",
      "  nan nan nan nan nan nan nan nan nan nan nan nan nan nan nan nan nan nan\n",
      "  nan nan nan nan nan nan nan nan nan nan nan nan nan nan nan nan nan nan\n",
      "  nan nan nan nan nan nan nan nan nan nan nan nan nan nan nan nan nan nan\n",
      "  nan nan nan nan nan nan nan nan nan nan nan nan nan nan nan nan nan nan\n",
      "  nan nan nan nan nan nan nan nan nan nan nan nan nan nan nan nan nan nan\n",
      "  nan nan nan nan nan nan nan nan nan nan nan nan nan nan nan nan nan nan\n",
      "  nan nan nan nan nan nan nan nan nan nan nan nan nan nan nan nan nan nan\n",
      "  nan nan nan nan nan nan nan nan nan nan nan nan nan nan nan nan nan nan\n",
      "  nan nan nan nan nan nan nan nan nan nan nan nan nan nan nan nan nan nan\n",
      "  nan nan nan nan nan nan nan nan nan nan nan nan nan nan nan nan nan nan\n",
      "  nan nan nan nan nan nan nan nan nan nan nan nan nan nan nan nan nan nan\n",
      "  nan nan nan nan nan nan nan nan nan nan nan nan nan nan nan nan nan nan\n",
      "  nan nan nan nan nan nan nan nan nan nan nan nan nan nan nan nan nan nan\n",
      "  nan nan nan nan nan nan nan nan nan nan nan nan nan nan nan nan nan nan\n",
      "  nan nan nan nan nan nan nan nan nan nan nan nan nan nan nan nan nan nan\n",
      "  nan nan nan nan nan nan nan nan nan nan nan nan nan nan nan nan nan nan\n",
      "  nan nan nan nan nan nan nan nan nan nan nan nan nan nan nan nan nan nan\n",
      "  nan nan nan nan nan nan nan nan nan nan nan nan nan nan nan nan nan nan\n",
      "  nan nan nan nan nan nan nan nan nan nan nan nan nan nan nan nan nan nan\n",
      "  nan nan nan nan nan nan nan nan nan nan nan nan nan nan nan nan nan nan\n",
      "  nan nan nan nan nan nan nan nan nan nan nan nan nan nan nan nan nan nan\n",
      "  nan nan nan nan nan nan nan nan nan nan nan nan nan nan nan nan nan nan\n",
      "  nan nan nan nan nan nan nan nan nan nan nan nan nan nan nan nan nan nan\n",
      "  nan nan nan nan nan nan nan nan nan nan nan nan nan nan nan nan nan nan\n",
      "  nan nan nan nan nan nan nan nan nan nan nan nan nan nan nan nan nan nan\n",
      "  nan nan nan nan nan nan nan nan nan nan nan nan nan nan nan nan nan nan\n",
      "  nan nan nan nan nan nan nan nan nan nan nan nan nan nan nan nan nan nan\n",
      "  nan nan nan nan nan nan nan nan nan nan nan nan nan nan nan nan nan nan\n",
      "  nan nan nan nan nan nan nan nan nan nan nan nan nan nan nan nan nan nan\n",
      "  nan nan nan nan nan nan nan nan nan nan nan nan nan nan nan nan nan nan\n",
      "  nan nan nan nan nan nan nan nan nan nan nan nan nan nan nan nan nan nan\n",
      "  nan nan nan nan nan nan nan nan nan nan nan nan nan nan nan nan nan nan\n",
      "  nan nan nan nan nan nan nan nan nan nan nan nan nan nan nan nan nan nan\n",
      "  nan nan nan nan nan nan nan nan nan nan]]\n"
     ]
    }
   ],
   "source": [
    "print(y)"
   ]
  },
  {
   "cell_type": "code",
   "execution_count": 27,
   "metadata": {},
   "outputs": [
    {
     "data": {
      "image/png": "[encoded data removed]",
      "text/plain": [
       "<Figure size 640x480 with 1 Axes>"
      ]
     },
     "metadata": {},
     "output_type": "display_data"
    }
   ],
   "source": [
    "draw_from_pixels(y)"
   ]
  }
 ],
 "metadata": {
  "kernelspec": {
   "display_name": "Python 3",
   "language": "python",
   "name": "python3"
  },
  "language_info": {
   "codemirror_mode": {
    "name": "ipython",
    "version": 3
   },
   "file_extension": ".py",
   "mimetype": "text/x-python",
   "name": "python",
   "nbconvert_exporter": "python",
   "pygments_lexer": "ipython3",
   "version": "3.10.12"
  }
 },
 "nbformat": 4,
 "nbformat_minor": 2
}
