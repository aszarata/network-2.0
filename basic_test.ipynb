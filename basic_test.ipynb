{
 "cells": [
  {
   "cell_type": "code",
   "execution_count": 1,
   "metadata": {},
   "outputs": [],
   "source": [
    "import pandas as pd\n",
    "import numpy as np\n",
    "import inspect"
   ]
  },
  {
   "cell_type": "code",
   "execution_count": 2,
   "metadata": {},
   "outputs": [],
   "source": [
    "def generate_dataframe(func, num_records):\n",
    "    num_args = len(inspect.signature(func).parameters)\n",
    "    \n",
    "    data = np.random.uniform(-10, 10, size=(num_records, num_args))\n",
    "\n",
    "    df = pd.DataFrame(data, columns=[f'arg{i}' for i in range(1, num_args + 1)])\n",
    "\n",
    "    df['result'] = df.apply(lambda row: func(*row), axis=1)\n",
    "    \n",
    "    return df\n",
    "\n",
    "def example_func(x, y):\n",
    "    return 2*x + y"
   ]
  },
  {
   "cell_type": "code",
   "execution_count": 3,
   "metadata": {},
   "outputs": [
    {
     "name": "stdout",
     "output_type": "stream",
     "text": [
      "        arg1      arg2     result\n",
      "0  -2.198757 -2.632494  -7.030009\n",
      "1  -8.993922  9.542450  -8.445395\n",
      "2   9.218329  9.758853  28.195512\n",
      "3  -5.634998  3.651315  -7.618681\n",
      "4  -3.515704  7.062905   0.031496\n",
      "..       ...       ...        ...\n",
      "95 -0.724714  0.861231  -0.588197\n",
      "96  4.094799 -9.023493  -0.833894\n",
      "97 -2.935413  7.367597   1.496771\n",
      "98 -6.737101  4.313653  -9.160549\n",
      "99  9.591037  2.225646  21.407720\n",
      "\n",
      "[100 rows x 3 columns]\n"
     ]
    }
   ],
   "source": [
    "df = generate_dataframe(example_func, 100)\n",
    "print(df)"
   ]
  },
  {
   "cell_type": "code",
   "execution_count": 4,
   "metadata": {},
   "outputs": [],
   "source": [
    "X = df.copy()\n",
    "y = np.atleast_2d(X.pop('result').to_numpy()).T\n",
    "X = X.to_numpy()"
   ]
  },
  {
   "cell_type": "code",
   "execution_count": 5,
   "metadata": {},
   "outputs": [
    {
     "data": {
      "text/plain": [
       "((100, 2), (100, 1))"
      ]
     },
     "execution_count": 5,
     "metadata": {},
     "output_type": "execute_result"
    }
   ],
   "source": [
    "X.shape, y.shape"
   ]
  },
  {
   "cell_type": "code",
   "execution_count": 6,
   "metadata": {},
   "outputs": [],
   "source": [
    "import activation_func as fn\n",
    "from loss_func import MSE\n",
    "from model import Model\n",
    "from layer import Layer"
   ]
  },
  {
   "cell_type": "code",
   "execution_count": 7,
   "metadata": {},
   "outputs": [],
   "source": [
    "in_features = X.shape[1]\n",
    "out_features = y.shape[1]\n",
    "num_epochs = 100"
   ]
  },
  {
   "cell_type": "code",
   "execution_count": 8,
   "metadata": {},
   "outputs": [],
   "source": [
    "model = Model(learning_rate=0.001)\n",
    "model.add_layer(Layer(in_features=in_features, out_features=64, activation_function=fn.ReLU()))\n",
    "model.add_layer(Layer(in_features=64, out_features=out_features, activation_function=fn.Identity()))"
   ]
  },
  {
   "cell_type": "code",
   "execution_count": 9,
   "metadata": {},
   "outputs": [
    {
     "name": "stdout",
     "output_type": "stream",
     "text": [
      "0: 1.3065696661806723"
     ]
    },
    {
     "name": "stdout",
     "output_type": "stream",
     "text": [
      "\n",
      "10: 0.11080748416838977\n",
      "20: 0.04695951899408296\n",
      "30: 0.04185898905572677\n",
      "40: 0.042133196033377694\n",
      "50: 0.03689345396164283\n",
      "60: 0.030997588796457462\n",
      "70: 0.030033205833160978\n",
      "80: 0.02731942618089299\n",
      "90: 0.024615432584350377\n"
     ]
    }
   ],
   "source": [
    "model.train()\n",
    "for epoch in range(num_epochs):\n",
    "    for i in range(len(X)):\n",
    "        y_pred = model.forward(X[i])\n",
    "        model.backward(y[i])\n",
    "\n",
    "    if epoch%10 ==0:\n",
    "        y_pred = model.predict(X)\n",
    "        loss = MSE(y_pred, y)\n",
    "        print(f\"{epoch}: {loss}\")\n"
   ]
  },
  {
   "cell_type": "code",
   "execution_count": null,
   "metadata": {},
   "outputs": [],
   "source": []
  }
 ],
 "metadata": {
  "kernelspec": {
   "display_name": "Python 3",
   "language": "python",
   "name": "python3"
  },
  "language_info": {
   "codemirror_mode": {
    "name": "ipython",
    "version": 3
   },
   "file_extension": ".py",
   "mimetype": "text/x-python",
   "name": "python",
   "nbconvert_exporter": "python",
   "pygments_lexer": "ipython3",
   "version": "3.10.12"
  }
 },
 "nbformat": 4,
 "nbformat_minor": 2
}
