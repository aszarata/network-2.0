{
 "cells": [
  {
   "cell_type": "code",
   "execution_count": 1,
   "metadata": {},
   "outputs": [],
   "source": [
    "import pandas as pd\n",
    "import numpy as np\n",
    "import inspect"
   ]
  },
  {
   "cell_type": "code",
   "execution_count": 2,
   "metadata": {},
   "outputs": [],
   "source": [
    "def generate_dataframe(func, num_records):\n",
    "    num_args = len(inspect.signature(func).parameters)\n",
    "    \n",
    "    data = np.random.uniform(-10, 10, size=(num_records, num_args))\n",
    "\n",
    "    df = pd.DataFrame(data, columns=[f'arg{i}' for i in range(1, num_args + 1)])\n",
    "\n",
    "    df['result'] = df.apply(lambda row: func(*row), axis=1)\n",
    "    \n",
    "    return df\n",
    "\n",
    "def example_func(x, y):\n",
    "    return 2*x + y"
   ]
  },
  {
   "cell_type": "code",
   "execution_count": 3,
   "metadata": {},
   "outputs": [
    {
     "name": "stdout",
     "output_type": "stream",
     "text": [
      "        arg1      arg2     result\n",
      "0   2.835098  9.169237  14.839433\n",
      "1  -5.754454 -9.783556 -21.292464\n",
      "2   2.053615  6.409188  10.516417\n",
      "3   9.786366  4.953745  24.526477\n",
      "4  -9.872428  9.175574 -10.569282\n",
      "..       ...       ...        ...\n",
      "95  7.310055  4.774926  19.395036\n",
      "96 -2.340977 -4.058300  -8.740254\n",
      "97 -5.414951 -2.428352 -13.258254\n",
      "98 -3.032124 -7.559670 -13.623917\n",
      "99  5.717887 -2.130269   9.305506\n",
      "\n",
      "[100 rows x 3 columns]\n"
     ]
    }
   ],
   "source": [
    "df = generate_dataframe(example_func, 100)\n",
    "print(df)"
   ]
  },
  {
   "cell_type": "code",
   "execution_count": 4,
   "metadata": {},
   "outputs": [],
   "source": [
    "X = df.copy()\n",
    "y = np.atleast_2d(X.pop('result').to_numpy()).T\n",
    "X = X.to_numpy()"
   ]
  },
  {
   "cell_type": "code",
   "execution_count": 5,
   "metadata": {},
   "outputs": [
    {
     "data": {
      "text/plain": [
       "((100, 2), (100, 1))"
      ]
     },
     "execution_count": 5,
     "metadata": {},
     "output_type": "execute_result"
    }
   ],
   "source": [
    "X.shape, y.shape"
   ]
  },
  {
   "cell_type": "code",
   "execution_count": 6,
   "metadata": {},
   "outputs": [],
   "source": [
    "import activation_func as fn\n",
    "from loss_func import MSE\n",
    "from model import Model\n",
    "from layer import Layer"
   ]
  },
  {
   "cell_type": "code",
   "execution_count": 7,
   "metadata": {},
   "outputs": [],
   "source": [
    "in_features = X.shape[1]\n",
    "out_features = y.shape[1]\n",
    "num_epochs = 100"
   ]
  },
  {
   "cell_type": "code",
   "execution_count": 8,
   "metadata": {},
   "outputs": [],
   "source": [
    "model = Model(learning_rate=0.001)\n",
    "model.add_layer(Layer(in_features=in_features, out_features=64, activation_function=fn.ReLU()))\n",
    "model.add_layer(Layer(in_features=64, out_features=out_features, activation_function=fn.Identity()))"
   ]
  },
  {
   "cell_type": "code",
   "execution_count": 9,
   "metadata": {},
   "outputs": [
    {
     "name": "stdout",
     "output_type": "stream",
     "text": [
      "0: 1.3651570117319562\n",
      "10: 0.09069350550553418\n",
      "20: 0.06022897008618987\n",
      "30: 0.04232978125975864\n",
      "40: 0.03119124399414059\n",
      "50: 0.02429055478936788\n",
      "60: 0.019461332175190325\n",
      "70: 0.015679109335708805\n",
      "80: 0.013029820809797659\n",
      "90: 0.011203620839652545\n"
     ]
    }
   ],
   "source": [
    "model.train()\n",
    "for epoch in range(num_epochs):\n",
    "    for i in range(len(X)):\n",
    "        y_pred = model.forward(X[i])\n",
    "        model.backward(y[i])\n",
    "\n",
    "    if epoch%10 ==0:\n",
    "        y_pred = model.predict(X)\n",
    "        loss = MSE(y_pred, y)\n",
    "        print(f\"{epoch}: {loss}\")\n"
   ]
  },
  {
   "cell_type": "code",
   "execution_count": null,
   "metadata": {},
   "outputs": [],
   "source": []
  }
 ],
 "metadata": {
  "kernelspec": {
   "display_name": "Python 3",
   "language": "python",
   "name": "python3"
  },
  "language_info": {
   "codemirror_mode": {
    "name": "ipython",
    "version": 3
   },
   "file_extension": ".py",
   "mimetype": "text/x-python",
   "name": "python",
   "nbconvert_exporter": "python",
   "pygments_lexer": "ipython3",
   "version": "3.11.9"
  }
 },
 "nbformat": 4,
 "nbformat_minor": 2
}
